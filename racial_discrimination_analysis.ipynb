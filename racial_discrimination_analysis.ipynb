{
 "cells": [
  {
   "cell_type": "markdown",
   "metadata": {},
   "source": [
    "# Examining Racial Discrimination in the US Job Market\n",
    "\n",
    "### Background\n",
    "Racial discrimination continues to be pervasive in cultures throughout the world. Researchers examined the level of racial discrimination in the United States labor market by randomly assigning identical résumés to black-sounding or white-sounding names and observing the impact on requests for interviews from employers.\n",
    "\n",
    "### Data\n",
    "In the dataset provided, each row represents a resume. The 'race' column has two values, 'b' and 'w', indicating black-sounding and white-sounding. The column 'call' has two values, 1 and 0, indicating whether the resume received a call from employers or not.\n",
    "\n",
    "Note that the 'b' and 'w' values in race are assigned randomly to the resumes when presented to the employer."
   ]
  },
  {
   "cell_type": "code",
   "execution_count": null,
   "metadata": {},
   "outputs": [],
   "source": []
  },
  {
   "cell_type": "markdown",
   "metadata": {},
   "source": [
    "<div class=\"span5 alert alert-info\">\n",
    "### Exercises\n",
    "You will perform a statistical analysis to establish whether race has a significant impact on the rate of callbacks for resumes.\n",
    "\n",
    "Answer the following questions **in this notebook below and submit to your Github account**. \n",
    "\n",
    "   1. What test is appropriate for this problem? Does CLT apply?\n",
    "   2. What are the null and alternate hypotheses?\n",
    "   3. Compute margin of error, confidence interval, and p-value. Try using both the bootstrapping and the frequentist statistical approaches.\n",
    "   4. Write a story describing the statistical significance in the context or the original problem.\n",
    "   5. Does your analysis mean that race/name is the most important factor in callback success? Why or why not? If not, how would you amend your analysis?\n",
    "\n",
    "You can include written notes in notebook cells using Markdown: \n",
    "   - In the control panel at the top, choose Cell > Cell Type > Markdown\n",
    "   - Markdown syntax: http://nestacms.com/docs/creating-content/markdown-cheat-sheet\n",
    "\n",
    "\n",
    "#### Resources\n",
    "+ Experiment information and data source: http://www.povertyactionlab.org/evaluation/discrimination-job-market-united-states\n",
    "+ Scipy statistical methods: http://docs.scipy.org/doc/scipy/reference/stats.html \n",
    "+ Markdown syntax: http://nestacms.com/docs/creating-content/markdown-cheat-sheet\n",
    "+ Formulas for the Bernoulli distribution: https://en.wikipedia.org/wiki/Bernoulli_distribution\n",
    "</div>\n",
    "****"
   ]
  },
  {
   "cell_type": "code",
   "execution_count": null,
   "metadata": {},
   "outputs": [],
   "source": []
  },
  {
   "cell_type": "code",
   "execution_count": 1,
   "metadata": {},
   "outputs": [],
   "source": [
    "import pandas as pd\n",
    "\n",
    "import numpy as np\n",
    "\n",
    "from scipy import stats"
   ]
  },
  {
   "cell_type": "code",
   "execution_count": 2,
   "metadata": {},
   "outputs": [],
   "source": [
    "data = pd.io.stata.read_stata('data/us_job_market_discrimination.dta')"
   ]
  },
  {
   "cell_type": "code",
   "execution_count": 3,
   "metadata": {},
   "outputs": [],
   "source": [
    "# number of callbacks for black-sounding and white-sounding names\n",
    "cw=sum(data[data.race=='w'].call)\n",
    "cb=sum(data[data.race=='b'].call)"
   ]
  },
  {
   "cell_type": "markdown",
   "metadata": {
    "collapsed": true
   },
   "source": [
    "<div class=\"span5 alert alert-success\">\n",
    "<p>Your answers to Q1 and Q2 here</p>\n",
    "</div>\n",
    "\n",
    "### Since the data consists of two identical copies of the same set of resumes, one labelled 'b' and on 'w', and, the the race connected with each resume is assigned randomly to each employer, a natural test is a test of proportions for call-backs based on the variable race. Each of 2435 resumes appear twice, once with each race label and the number of callbacks for 'b'-resumes is 157 and for 'w'-resumes is 235. Thus, if pb is the proportion of callbacks for 'b'-resumes, 2435pb(1-pb) is much larger than 5 or 10 or any other standard size which justifies the practical use of the CLT. The same holds for the proportion pw of 'w'-callbacks as this proportion is larger. The hypotheses used to test for a difference in thes proportions are as follows.\n",
    "\n",
    "# $H_0:pw=pb$\n",
    "# $H_a:pw\\neq pb$"
   ]
  },
  {
   "cell_type": "markdown",
   "metadata": {},
   "source": [
    "<div class=\"span5 alert alert-success\">\n",
    "<p>Your answer to Q3 here</p>\n",
    "</div>"
   ]
  },
  {
   "cell_type": "code",
   "execution_count": 4,
   "metadata": {},
   "outputs": [],
   "source": [
    "w = data[data.race=='w']\n",
    "b = data[data.race=='b']"
   ]
  },
  {
   "cell_type": "code",
   "execution_count": 5,
   "metadata": {},
   "outputs": [
    {
     "name": "stdout",
     "output_type": "stream",
     "text": [
      "Magin of Error for 95% Confidence Interval = 0.01588589318764007\n",
      "95% Confidence interval for pw-pb = (0.016146961021805517, 0.047918747397085654)\n",
      "p-value = 3.871628552454265e-05\n"
     ]
    }
   ],
   "source": [
    "# Your solution to Q3 here\n",
    "n=len(data)/2\n",
    "pw=cw/n\n",
    "pb=cb/n\n",
    "error=(1.96*np.sqrt((pw+pb-(pw-pb)**2)/n))\n",
    "z=(pw-pb)/(error/1.96)\n",
    "c=stats.norm.cdf(z)\n",
    "\n",
    "print('Magin of Error for 95% Confidence Interval = '+str(error))\n",
    "print('95% Confidence interval for pw-pb = '+str((pw-pb-error,pw-pb+error)))\n",
    "print('p-value = '+str(1-c))"
   ]
  },
  {
   "cell_type": "markdown",
   "metadata": {},
   "source": [
    "### Since 0 is not contained in the confidence interval this data provide evidence supporting the rejection of the null hypothesis, i.e. the proportion of call backs for 'w'-resumes is different that the proportion of call backs for 'b'-resumes. Moreover, since the numbers in this interval are all positive there is evidence, at 90% confidence that pw is larger than pb. However, due to the extremely small p-value these conclusions are justified with much higher confidence.\n",
    "\n",
    "## With such strongly justified use of the CLT with extreme high confidence in the rejection of the null hypothesis, bootstrapping is pointless as it will only confirm such conclusions."
   ]
  },
  {
   "cell_type": "markdown",
   "metadata": {},
   "source": [
    "<div class=\"span5 alert alert-success\">\n",
    "<p> Your answers to Q4 and Q5 here </p>\n",
    "</div>"
   ]
  },
  {
   "cell_type": "markdown",
   "metadata": {
    "collapsed": true
   },
   "source": [
    "### The statistical significance of the above analysis is clear but is based on additional assumptions which are not clearly stated. For example, is this data tied to a single employer or are the resumes given randomly to some collection of employers from the same company who are hiring for the same types of jobs?\n",
    "\n",
    "## Of course this analysis cannot be used to judge the importance of race in the rate of call back. There are many other skill, experience, and education based factors which need to be analyzed. Moreover, such factors should be analyzed to see if racial call back rates are different among individuals on the higher end of all qualifications. However, such a restriction of the data could mean that the use of the CLT is no longer justified. If not, there are a number of options. For example, in such cases one may use the Fisher test of association. If such a test suggests that call back rates among the best candidates are dependent on race then, in the least, this would justify further data collection in order to obtain a more powerful and statistically significant test."
   ]
  },
  {
   "cell_type": "code",
   "execution_count": null,
   "metadata": {},
   "outputs": [],
   "source": []
  }
 ],
 "metadata": {
  "kernelspec": {
   "display_name": "Python 3",
   "language": "python",
   "name": "python3"
  },
  "language_info": {
   "codemirror_mode": {
    "name": "ipython",
    "version": 3
   },
   "file_extension": ".py",
   "mimetype": "text/x-python",
   "name": "python",
   "nbconvert_exporter": "python",
   "pygments_lexer": "ipython3",
   "version": "3.6.5"
  }
 },
 "nbformat": 4,
 "nbformat_minor": 1
}
