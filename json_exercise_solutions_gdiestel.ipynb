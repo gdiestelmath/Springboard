{
 "cells": [
  {
   "cell_type": "markdown",
   "metadata": {},
   "source": [
    "****\n",
    "## JSON exercise\n",
    "\n",
    "Using data in file 'data/world_bank_projects.json' and the techniques demonstrated above,\n",
    "1. Find the 10 countries with most projects\n",
    "2. Find the top 10 major project themes (using column 'mjtheme_namecode')\n",
    "3. In 2. above you will notice that some entries have only the code and the name is missing. Create a dataframe with the missing names filled in."
   ]
  },
  {
   "cell_type": "markdown",
   "metadata": {},
   "source": [
    "## Imports with JSON file read as DataFrame."
   ]
  },
  {
   "cell_type": "code",
   "execution_count": 1,
   "metadata": {},
   "outputs": [],
   "source": [
    "#Imports\n",
    "\n",
    "import pandas as pd\n",
    "#import json\n",
    "from collections import Counter\n",
    "\n",
    "#Define DataFrame: df\n",
    "df=pd.read_json('data/world_bank_projects.json')"
   ]
  },
  {
   "cell_type": "markdown",
   "metadata": {},
   "source": [
    "## Exercise 1 Answer."
   ]
  },
  {
   "cell_type": "code",
   "execution_count": 2,
   "metadata": {},
   "outputs": [
    {
     "name": "stdout",
     "output_type": "stream",
     "text": [
      "The top 10 countries by project count are...\n"
     ]
    },
    {
     "data": {
      "text/plain": [
       "Indonesia             19\n",
       "China                 19\n",
       "Vietnam               17\n",
       "India                 16\n",
       "Yemen, Republic of    13\n",
       "Morocco               12\n",
       "Bangladesh            12\n",
       "Nepal                 12\n",
       "Mozambique            11\n",
       "Africa                11\n",
       "Name: countryshortname, dtype: int64"
      ]
     },
     "execution_count": 2,
     "metadata": {},
     "output_type": "execute_result"
    }
   ],
   "source": [
    "#Exercise 1 Answer. Find 10 countries with most projects\n",
    "\n",
    "print(\"The top 10 countries by project count are...\")\n",
    "\n",
    "df.countryshortname.value_counts()[:10]"
   ]
  },
  {
   "cell_type": "markdown",
   "metadata": {},
   "source": [
    "## Identify all major theme code-name pairs present."
   ]
  },
  {
   "cell_type": "code",
   "execution_count": 3,
   "metadata": {},
   "outputs": [
    {
     "data": {
      "text/plain": [
       "{('1', ''),\n",
       " ('1', 'Economic management'),\n",
       " ('10', ''),\n",
       " ('10', 'Rural development'),\n",
       " ('11', ''),\n",
       " ('11', 'Environment and natural resources management'),\n",
       " ('2', ''),\n",
       " ('2', 'Public sector governance'),\n",
       " ('3', ''),\n",
       " ('3', 'Rule of law'),\n",
       " ('4', ''),\n",
       " ('4', 'Financial and private sector development'),\n",
       " ('5', ''),\n",
       " ('5', 'Trade and integration'),\n",
       " ('6', ''),\n",
       " ('6', 'Social protection and risk management'),\n",
       " ('7', ''),\n",
       " ('7', 'Social dev/gender/inclusion'),\n",
       " ('8', ''),\n",
       " ('8', 'Human development'),\n",
       " ('9', ''),\n",
       " ('9', 'Urban development')}"
      ]
     },
     "execution_count": 3,
     "metadata": {},
     "output_type": "execute_result"
    }
   ],
   "source": [
    "#Identify set of all major theme (code,name) pairs\n",
    "codename_pairs=set()\n",
    "for index, row in df.iterrows():\n",
    "    for j in range(len(row['mjtheme_namecode'])):\n",
    "        codename_pairs.add((row['mjtheme_namecode'][j]['code'],row['mjtheme_namecode'][j]['name']))\n",
    "\n",
    "codename_pairs"
   ]
  },
  {
   "cell_type": "markdown",
   "metadata": {},
   "source": [
    "## Since there are missing names but no inconsistent code-name pairs, create dictionary of valid code-name pairs."
   ]
  },
  {
   "cell_type": "code",
   "execution_count": 4,
   "metadata": {},
   "outputs": [
    {
     "name": "stdout",
     "output_type": "stream",
     "text": [
      "Valid Major Theme Code-Name Pairs are...\n"
     ]
    },
    {
     "data": {
      "text/plain": [
       "{'6': 'Social protection and risk management',\n",
       " '5': 'Trade and integration',\n",
       " '3': 'Rule of law',\n",
       " '4': 'Financial and private sector development',\n",
       " '1': 'Economic management',\n",
       " '2': 'Public sector governance',\n",
       " '7': 'Social dev/gender/inclusion',\n",
       " '11': 'Environment and natural resources management',\n",
       " '10': 'Rural development',\n",
       " '8': 'Human development',\n",
       " '9': 'Urban development'}"
      ]
     },
     "execution_count": 4,
     "metadata": {},
     "output_type": "execute_result"
    }
   ],
   "source": [
    "#Create Dictionary of 11 Valid code:name pairs: code_pairs={}\n",
    "\n",
    "code_pairs={}\n",
    "\n",
    "for pair in codename_pairs:\n",
    "    if pair[1]!='':\n",
    "        code=pair[0]\n",
    "        name=pair[1]\n",
    "        code_pairs[code]=name\n",
    "\n",
    "print(\"Valid Major Theme Code-Name Pairs are...\")\n",
    "\n",
    "code_pairs       "
   ]
  },
  {
   "cell_type": "markdown",
   "metadata": {},
   "source": [
    "## Use above dictionary to fill in missing names to new DataFrame and create list of all code-name occurences."
   ]
  },
  {
   "cell_type": "code",
   "execution_count": 5,
   "metadata": {},
   "outputs": [],
   "source": [
    "# Initialize list for all major theme occurencs: codes\n",
    "codes=[]\n",
    "\n",
    "#Copy df for filling in missing major them names: df_new\n",
    "df_new=df\n",
    "\n",
    "#Fill df_new with missing major them names and append each occurrence to codes list \n",
    "\n",
    "for index, row in df_new.iterrows():\n",
    "    for j in range(len(row['mjtheme_namecode'])):\n",
    "        if row['mjtheme_namecode'][j]['name']=='':\n",
    "            for key, value in code_pairs.items():\n",
    "                if row['mjtheme_namecode'][j]['code']==key:\n",
    "                    codes.append(value)\n",
    "                    row['mjtheme_namecode'][j]['name']=value\n",
    "                    break\n",
    "        else:\n",
    "            codes.append(row['mjtheme_namecode'][j]['name'])"
   ]
  },
  {
   "cell_type": "markdown",
   "metadata": {},
   "source": [
    "## Exercise 2 Answer: Top 10 major theme names with frequencies."
   ]
  },
  {
   "cell_type": "code",
   "execution_count": 6,
   "metadata": {},
   "outputs": [
    {
     "name": "stdout",
     "output_type": "stream",
     "text": [
      "1: Environment and natural resources management, 250\n",
      "2: Rural development, 216\n",
      "3: Human development, 210\n",
      "4: Public sector governance, 199\n",
      "5: Social protection and risk management, 168\n",
      "6: Financial and private sector development, 146\n",
      "7: Social dev/gender/inclusion, 130\n",
      "8: Trade and integration, 77\n",
      "9: Urban development, 50\n",
      "10: Economic management, 38\n"
     ]
    }
   ],
   "source": [
    "# Exercise 2 Answer: Print top 10 major theme names with frequency\n",
    "ranks=Counter(codes).most_common(10)\n",
    "for k in range(len(ranks)):\n",
    "    print(str(k+1)+\": \"+ranks[k][0]+\", \"+str(ranks[k][1]))"
   ]
  },
  {
   "cell_type": "markdown",
   "metadata": {},
   "source": [
    "## Exercise 3 Answer: Confirmation that blank names are filled."
   ]
  },
  {
   "cell_type": "code",
   "execution_count": 7,
   "metadata": {},
   "outputs": [
    {
     "name": "stdout",
     "output_type": "stream",
     "text": [
      "There are 0 blank major theme names in df_new\n"
     ]
    }
   ],
   "source": [
    "# Exercise 3 Answer: Confirm df_new has no missing major them names\n",
    "blank_names=0\n",
    "\n",
    "for index, row in df_new.iterrows():\n",
    "    for j in range(len(row['mjtheme_namecode'])):\n",
    "        if row['mjtheme_namecode'][j]['name']=='':\n",
    "            blank_names+=1\n",
    "            \n",
    "print(\"There are \"+str(blank_names)+ \" blank major theme names in df_new\")"
   ]
  }
 ],
 "metadata": {
  "kernelspec": {
   "display_name": "Python 3",
   "language": "python",
   "name": "python3"
  },
  "language_info": {
   "codemirror_mode": {
    "name": "ipython",
    "version": 3
   },
   "file_extension": ".py",
   "mimetype": "text/x-python",
   "name": "python",
   "nbconvert_exporter": "python",
   "pygments_lexer": "ipython3",
   "version": "3.6.5"
  }
 },
 "nbformat": 4,
 "nbformat_minor": 1
}
