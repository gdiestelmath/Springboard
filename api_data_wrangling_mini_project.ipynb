{
 "cells": [
  {
   "cell_type": "markdown",
   "metadata": {},
   "source": [
    "This exercise will require you to pull some data from the Qunadl API. Qaundl is currently the most widely used aggregator of financial market data."
   ]
  },
  {
   "cell_type": "markdown",
   "metadata": {},
   "source": [
    "As a first step, you will need to register a free account on the http://www.quandl.com website."
   ]
  },
  {
   "cell_type": "markdown",
   "metadata": {},
   "source": [
    "After you register, you will be provided with a unique API key, that you should store:"
   ]
  },
  {
   "cell_type": "code",
   "execution_count": null,
   "metadata": {},
   "outputs": [],
   "source": [
    "# Store the API key as a string - according to PEP8, constants are always named in all upper case\n",
    "API_KEY = 'fr89z8vqESGWrVzvNFxC'"
   ]
  },
  {
   "cell_type": "markdown",
   "metadata": {},
   "source": [
    "Qaundl has a large number of data sources, but, unfortunately, most of them require a Premium subscription. Still, there are also a good number of free datasets."
   ]
  },
  {
   "cell_type": "markdown",
   "metadata": {},
   "source": [
    "For this mini project, we will focus on equities data from the Frankfurt Stock Exhange (FSE), which is available for free. We'll try and analyze the stock prices of a company called Carl Zeiss Meditec, which manufactures tools for eye examinations, as well as medical lasers for laser eye surgery: https://www.zeiss.com/meditec/int/home.html. The company is listed under the stock ticker AFX_X."
   ]
  },
  {
   "cell_type": "markdown",
   "metadata": {},
   "source": [
    "You can find the detailed Quandl API instructions here: https://docs.quandl.com/docs/time-series"
   ]
  },
  {
   "cell_type": "markdown",
   "metadata": {},
   "source": [
    "While there is a dedicated Python package for connecting to the Quandl API, we would prefer that you use the *requests* package, which can be easily downloaded using *pip* or *conda*. You can find the documentation for the package here: http://docs.python-requests.org/en/master/ "
   ]
  },
  {
   "cell_type": "markdown",
   "metadata": {},
   "source": [
    "Finally, apart from the *requests* package, you are encouraged to not use any third party Python packages, such as *pandas*, and instead focus on what's available in the Python Standard Library (the *collections* module might come in handy: https://pymotw.com/3/collections/).\n",
    "Also, since you won't have access to DataFrames, you are encouraged to us Python's native data structures - preferably dictionaries, though some questions can also be answered using lists.\n",
    "You can read more on these data structures here: https://docs.python.org/3/tutorial/datastructures.html"
   ]
  },
  {
   "cell_type": "markdown",
   "metadata": {},
   "source": [
    "Keep in mind that the JSON responses you will be getting from the API map almost one-to-one to Python's dictionaries. Unfortunately, they can be very nested, so make sure you read up on indexing dictionaries in the documentation provided above."
   ]
  },
  {
   "cell_type": "code",
   "execution_count": null,
   "metadata": {},
   "outputs": [],
   "source": [
    "# First, import the relevant modules\n",
    "import requests"
   ]
  },
  {
   "cell_type": "code",
   "execution_count": null,
   "metadata": {},
   "outputs": [],
   "source": [
    "# Now, call the Quandl API and pull out a small sample of the data (only one day) to get a glimpse\n",
    "# into the JSON structure that will be returned\n",
    "path = 'https://www.quandl.com/api/v3/datasets/FSE/AFX_X.json?api_key=fr89z8vqESGWrVzvNFxC&start_date=2017-01-01&end_date=2018-01-01?api_key=API_KEY'\n",
    "r = requests.get(path).json()"
   ]
  },
  {
   "cell_type": "code",
   "execution_count": null,
   "metadata": {},
   "outputs": [],
   "source": [
    "# Inspect the JSON structure of the object you created, and take note of how nested it is,\n",
    "# as well as the overall structure\n",
    "#Dataset-->data[Data, Open, High, Low, Close, Change, Traded Volume, Turnover,\n",
    "#                Last Price of the Day, Daily Traded Units, Daily Turnover]\n",
    "#Appears 0-4 and 6-7 are filled with othters blank\n",
    "\n",
    "#1. Done\n",
    "#2. Make dict of dict = {Date:[]}\n",
    "#3. Calculate Change = High-Low for all dates\n",
    "#4. Find largest Change in any one day\n",
    "#5. Find largest 2 day change\n",
    "#6. Avg Daily trading volume.\n",
    "#7. Median trading volume(creat own function since can't use numpy or pandas)"
   ]
  },
  {
   "cell_type": "markdown",
   "metadata": {},
   "source": [
    "These are your tasks for this mini project:\n",
    "\n",
    "1. Collect data from the Franfurt Stock Exchange, for the ticker AFX_X, for the whole year 2017 (keep in mind that the date format is YYYY-MM-DD).\n",
    "2. Convert the returned JSON object into a Python dictionary.\n",
    "3. Calculate what the highest and lowest opening prices were for the stock in this period.\n",
    "4. What was the largest change in any one day (based on High and Low price)?\n",
    "5. What was the largest change between any two days (based on Closing Price)?\n",
    "6. What was the average daily trading volume during this year?\n",
    "7. (Optional) What was the median trading volume during this year. (Note: you may need to implement your own function for calculating the median.)"
   ]
  },
  {
   "cell_type": "code",
   "execution_count": null,
   "metadata": {},
   "outputs": [],
   "source": [
    "# 1. Completed Above\n",
    "\n",
    "# 2. Convert JSON into Dictionary with only relevant info : dict\n",
    "rr=r['dataset']\n",
    "Columns=rr['column_names']\n",
    "Data=rr['data']\n",
    "# All rows same size and equal to number of columns\n",
    "for j in range(len(Data)):\n",
    "    if len(Data[j])!=11:\n",
    "        print(j)\n",
    "        \n",
    "dict={}\n",
    "for i in range(len(Columns)):\n",
    "    dict[Columns[i]]=[]\n",
    "    for j in range(len(Data)):\n",
    "        dict[Columns[i]].append(Data[j][i])\n",
    "dict.keys()  "
   ]
  },
  {
   "cell_type": "code",
   "execution_count": null,
   "metadata": {},
   "outputs": [],
   "source": [
    "# 3. Calculate High and Low opening prices\n",
    "open_clean=[x for x in dict['Open'] if type(x)==float]\n",
    "print('Highest opening price: $'+str(sorted(open_clean)[-1]))\n",
    "print('Lowest opening price: $'+str(sorted(open_clean)[0]))"
   ]
  },
  {
   "cell_type": "code",
   "execution_count": null,
   "metadata": {},
   "outputs": [],
   "source": [
    "# 4. Largest one day change\n",
    "change_clean=[]\n",
    "for j in range(len(dict['Date'])):\n",
    "    high=dict['High'][j]\n",
    "    low=dict['Low'][j]\n",
    "    if type(high)==float and type(low)==float:\n",
    "        change_clean.append(high-low)\n",
    "print('Largest absolute change within any day: $'+str(round(sorted(change_clean)[-1],2)))"
   ]
  },
  {
   "cell_type": "code",
   "execution_count": null,
   "metadata": {},
   "outputs": [],
   "source": [
    "# 5. Largest change in consecutive closing prices\n",
    "close_change_clean=[]\n",
    "for j in range(len(dict['Date'])-1):\n",
    "    close_change_clean.append(abs(dict['Close'][j]-dict['Close'][j+1]))\n",
    "print('Largest change in closing price: $'+str(round(sorted(close_change_clean)[-1],2)))"
   ]
  },
  {
   "cell_type": "code",
   "execution_count": null,
   "metadata": {},
   "outputs": [],
   "source": [
    "# 6. Average daily trading volume\n",
    "avg=round(sum(dict['Traded Volume'])/len(dict['Traded Volume']),1)\n",
    "print('Average daily trading volume: '+str(avg))"
   ]
  },
  {
   "cell_type": "code",
   "execution_count": null,
   "metadata": {},
   "outputs": [],
   "source": [
    "# 7. Since odd number of dates just use middle value from sorted list\n",
    "mid=int(round(len(dict['Traded Volume'])/2,0))-1\n",
    "print('Median Daily Volum: '+str(sorted(dict['Traded Volume'])[mid]))"
   ]
  }
 ],
 "metadata": {
  "kernelspec": {
   "display_name": "Python 3",
   "language": "python",
   "name": "python3"
  },
  "language_info": {
   "codemirror_mode": {
    "name": "ipython",
    "version": 3
   },
   "file_extension": ".py",
   "mimetype": "text/x-python",
   "name": "python",
   "nbconvert_exporter": "python",
   "pygments_lexer": "ipython3",
   "version": "3.6.5"
  }
 },
 "nbformat": 4,
 "nbformat_minor": 2
}
